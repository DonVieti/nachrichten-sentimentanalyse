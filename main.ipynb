{
 "cells": [
  {
   "cell_type": "code",
   "execution_count": 1,
   "id": "initial_id",
   "metadata": {
    "ExecuteTime": {
     "end_time": "2025-07-19T15:32:07.666701Z",
     "start_time": "2025-07-19T15:32:02.856290Z"
    },
    "collapsed": true,
    "jupyter": {
     "outputs_hidden": true
    }
   },
   "outputs": [
    {
     "name": "stdout",
     "output_type": "stream",
     "text": [
      "Aktuell gespeicherte Headlines: 1159\n"
     ]
    }
   ],
   "source": [
    "import feedparser\n",
    "import pandas as pd\n",
    "from datetime import datetime\n",
    "import uuid\n",
    "import os\n",
    "\n",
    "# 1. Daten crawlen\n",
    "feeds = {\n",
    "    \"welt_top\": \"https://www.welt.de/feeds/topnews.rss\",\n",
    "    \"welt_latest\": \"https://www.welt.de/feeds/latest.rss\",\n",
    "    \"welt_politik\": \"https://www.welt.de/politik/index.rss\",\n",
    "    \"welt_wirtschaft\": \"https://www.welt.de/wirtschaft/index.rss\",\n",
    "    \"welt_meinung\": \"https://www.welt.de/debatte/index.rss\",\n",
    "    \"bild\": \"https://www.bild.de/feed/alles.xml\"\n",
    "}\n",
    "rows = []\n",
    "\n",
    "# Schleife zur Datenabfrage\n",
    "for medium, url in feeds.items():\n",
    "    feed = feedparser.parse(url)\n",
    "    for entry in feed.entries:\n",
    "        row = {\n",
    "            \"id\": str(uuid.uuid4()),\n",
    "            \"medium\": medium,\n",
    "            \"title\": entry.title.strip(),\n",
    "            \"date\": entry.get(\"published\", datetime.now().isoformat())\n",
    "        }\n",
    "        rows.append(row)\n",
    "\n",
    "df_new = pd.DataFrame(rows)\n",
    "\n",
    "## 1.1 Ergebnis anlegen oder erweitern\n",
    "filename = \"data/headlines_dataset.csv\"\n",
    "if os.path.exists(filename):\n",
    "    df_old = pd.read_csv(filename)\n",
    "    df_combined = pd.concat([df_old, df_new]).drop_duplicates(subset=[\"medium\", \"title\"])\n",
    "else:\n",
    "    df_combined = df_new\n",
    "\n",
    "df_combined.to_csv(filename, index=False)\n",
    "print(f\"Aktuell gespeicherte Headlines: {len(df_combined)}\")\n"
   ]
  },
  {
   "cell_type": "code",
   "execution_count": 3,
   "id": "30cb24471185dae1",
   "metadata": {
    "ExecuteTime": {
     "end_time": "2025-07-20T10:23:21.903555Z",
     "start_time": "2025-07-20T10:23:21.883348Z"
    }
   },
   "outputs": [
    {
     "name": "stdout",
     "output_type": "stream",
     "text": [
      "✅ Bereinigt gespeichert: 1002 eindeutige Titel\n"
     ]
    }
   ],
   "source": [
    "# 1.2 Duplikate, doppelte Leerzeichen und \"Horoskop\" entfernen\n",
    "import re\n",
    "\n",
    "df = pd.read_csv(\"data/headlines_dataset.csv\")\n",
    "\n",
    "# Titel bereinigen: Leerzeichen vereinheitlichen, trimmen\n",
    "def clean_title(text):\n",
    "    if pd.isna(text):\n",
    "        return \"\"\n",
    "    text = re.sub(r'\\s+', ' ', text)\n",
    "    return text.strip()\n",
    "\n",
    "df = df[~df['title'].str.contains(\"horoskop\", case=False, na=False)]\n",
    "\n",
    "df['title_clean'] = df['title'].apply(clean_title)\n",
    "\n",
    "# Duplikate entfernen\n",
    "df_deduplicated = df.drop_duplicates(subset=[\"title_clean\"])\n",
    "# Originaltitel behalten und Spalte entfernen\n",
    "df_deduplicated = df_deduplicated.drop(columns=[\"title_clean\"])\n",
    "\n",
    "# Speichern\n",
    "df_deduplicated.to_csv(\"data/headlines_dataset_cleaned.csv\", index=False)\n",
    "print(f\"Bereinigt gespeichert: {len(df_deduplicated)} eindeutige Titel\")\n"
   ]
  },
  {
   "cell_type": "code",
   "execution_count": 9,
   "id": "e4d3be8236dbdba3",
   "metadata": {
    "ExecuteTime": {
     "end_time": "2025-07-07T16:32:32.650140Z",
     "start_time": "2025-07-07T16:32:32.646304Z"
    }
   },
   "outputs": [
    {
     "name": "stdout",
     "output_type": "stream",
     "text": [
      "70.000 Geschäfte in 10 Jahren – „Die geben einfach auf“\n",
      "Was deutsche Frauen zum Islam lockt – und welche Rolle Salafisten dabei spielen\n",
      "Jeder Dritte befürwortet schärfere Bürgergeld-Sanktionen – Mehrheit beklagt Ungerechtigkeit\n",
      "Julia Simic berichtet über sexuelle Belästigungen als „Teil des Geschäfts“\n",
      "Iran-Spion ließ sich vor dem US-Kapitol fotografieren\n"
     ]
    }
   ],
   "source": [
    "for title in df_combined[\"title\"].head(5):\n",
    "    print(title)"
   ]
  },
  {
   "cell_type": "code",
   "execution_count": 120,
   "id": "7594323255b12bf1",
   "metadata": {
    "ExecuteTime": {
     "end_time": "2025-07-19T16:47:29.804650Z",
     "start_time": "2025-07-19T16:47:29.742997Z"
    }
   },
   "outputs": [
    {
     "name": "stdout",
     "output_type": "stream",
     "text": [
      "Bestehende Label-Datei geladen.\n"
     ]
    },
    {
     "data": {
      "application/vnd.jupyter.widget-view+json": {
       "model_id": "aa0f907a6f1442f6825264d665fba1a0",
       "version_major": 2,
       "version_minor": 0
      },
      "text/plain": [
       "Output()"
      ]
     },
     "metadata": {},
     "output_type": "display_data"
    }
   ],
   "source": [
    "# 2. Manuelles Labeling mit UI\n",
    "import os\n",
    "from IPython.display import display\n",
    "import ipywidgets as widgets\n",
    "\n",
    "input_file = \"data/headlines_dataset_cleaned.csv\"\n",
    "output_file = \"data/headlines_labeled.csv\"\n",
    "\n",
    "# Daten laden\n",
    "df_base = pd.read_csv(input_file)\n",
    "if os.path.exists(output_file):\n",
    "    df = pd.read_csv(output_file)\n",
    "    print(\"Bestehende Label-Datei geladen.\")\n",
    "else:\n",
    "    df = df_base.copy()\n",
    "    df['sentiment'] = None\n",
    "    df.to_csv(output_file, index=False, encoding=\"utf-8\")\n",
    "    print(\"Neue Label-Datei erstellt.\")\n",
    "\n",
    "# Indices ungelabelter Zeilen\n",
    "df_to_label = df[df['sentiment'].isna()].copy()\n",
    "indices = df_to_label.index.tolist()\n",
    "current = {'index': 0}\n",
    "\n",
    "# Ausgabe-Container\n",
    "output = widgets.Output()\n",
    "\n",
    "def save_and_continue(label=None):\n",
    "    idx = indices[current['index']]\n",
    "    if label in [\"positive\", \"neutral\", \"negative\"]:\n",
    "        df.at[idx, 'sentiment'] = label\n",
    "        df.to_csv(output_file, index=False, encoding=\"utf-8\")\n",
    "        print(f\"Gespeichert: {label}\")\n",
    "    current['index'] += 1\n",
    "    show_next()\n",
    "\n",
    "def show_next():\n",
    "    output.clear_output()\n",
    "    with output:\n",
    "        if current['index'] >= len(indices):\n",
    "            print(f\"Alle Headlines wurden gelabelt!\\n Gespeichert als: {output_file}\")\n",
    "            return\n",
    "\n",
    "        idx = indices[current['index']]\n",
    "        row = df.loc[idx]\n",
    "\n",
    "        print(f\"\\nNoch zu labeln: {len(indices) - current['index']} von {len(indices)}\")\n",
    "        print(f\"Titel : {row['title']}\")\n",
    "        print(f\"Medium: {row['medium']}\")\n",
    "        print(f\"Datum : {row['date']}\")\n",
    "\n",
    "        # Buttons mit Farbe definieren\n",
    "        positive_btn = widgets.Button(description=\"+ Positiv\", style={'button_color': 'lightgreen'})\n",
    "        neutral_btn  = widgets.Button(description=\"# Neutral\", style={'button_color': 'lightgray'})\n",
    "        negative_btn = widgets.Button(description=\"- Negativ\", style={'button_color': 'lightcoral'})\n",
    "        skip_btn     = widgets.Button(description=\"Skip\", style={'button_color': 'lightyellow'})\n",
    "        quit_btn     = widgets.Button(description=\"Beenden\", style={'button_color': 'lightblue'})\n",
    "\n",
    "        # Button-Leiste erstellen\n",
    "        buttons = widgets.HBox([\n",
    "        positive_btn, neutral_btn, negative_btn, skip_btn, quit_btn\n",
    "        ])\n",
    "\n",
    "        def on_click(btn):\n",
    "            label_map = {\n",
    "                \"+ Positiv\": \"positive\",\n",
    "                \"# Neutral\": \"neutral\",\n",
    "                \"- Negativ\": \"negative\",\n",
    "                \"Skip\": None,\n",
    "                \"Beenden\": \"quit\"\n",
    "            }\n",
    "            label = label_map[btn.description]\n",
    "            if label == \"quit\":\n",
    "                output.clear_output()\n",
    "                print(\"Beendet.\")\n",
    "            else:\n",
    "                save_and_continue(label)\n",
    "\n",
    "        for b in buttons.children:\n",
    "            b.on_click(on_click)\n",
    "\n",
    "        display(buttons)\n",
    "\n",
    "# Startanzeige\n",
    "show_next()\n",
    "display(output)\n"
   ]
  },
  {
   "cell_type": "code",
   "execution_count": 4,
   "id": "f501ee68-2e19-433d-a93a-4f0db4ef7d59",
   "metadata": {},
   "outputs": [
    {
     "name": "stdout",
     "output_type": "stream",
     "text": [
      "sentiment\n",
      "neutral     371\n",
      "negative    353\n",
      "positive    276\n",
      "Name: count, dtype: int64\n",
      "NaN-Werte: 0\n"
     ]
    }
   ],
   "source": [
    "## 2.1 Finale Labeling Ergebnisse\n",
    "print(df[\"sentiment\"].value_counts())\n",
    "# Fehlende (NaN) Einträge zählen\n",
    "print(\"NaN-Werte:\", df[\"sentiment\"].isna().sum())"
   ]
  },
  {
   "cell_type": "code",
   "execution_count": 1,
   "id": "decfaa1d-7a14-4693-8494-bd78dc177c2d",
   "metadata": {},
   "outputs": [
    {
     "name": "stdout",
     "output_type": "stream",
     "text": [
      "Train: 800\n",
      "Validation: 100\n",
      "Test: 100\n",
      "\n",
      "Verteilung im Training:\n",
      "sentiment\n",
      "neutral     0.37125\n",
      "negative    0.35250\n",
      "positive    0.27625\n",
      "Name: proportion, dtype: float64\n"
     ]
    }
   ],
   "source": [
    "# 3. Daten splitten\n",
    "\n",
    "import pandas as pd\n",
    "from sklearn.model_selection import train_test_split\n",
    "\n",
    "df = pd.read_csv(\"data/headlines_labeled.csv\")\n",
    "df = df.dropna(subset=[\"sentiment\"])\n",
    "\n",
    "# 1.Split: 80 % Training, 20 % Rest\n",
    "train_df, temp_df = train_test_split(\n",
    "    df,\n",
    "    test_size=0.2,\n",
    "    stratify=df[\"sentiment\"],\n",
    "    random_state=42\n",
    ")\n",
    "\n",
    "# 2. Split: Rest → 10 % Val, 10 % Test\n",
    "val_df, test_df = train_test_split(\n",
    "    temp_df,\n",
    "    test_size=0.5,\n",
    "    stratify=temp_df[\"sentiment\"],\n",
    "    random_state=42\n",
    ")\n",
    "\n",
    "# Kontrolle\n",
    "print(f\"Train: {len(train_df)}\")\n",
    "print(f\"Validation: {len(val_df)}\")\n",
    "print(f\"Test: {len(test_df)}\")\n",
    "print(\"\\nVerteilung im Training:\")\n",
    "print(train_df[\"sentiment\"].value_counts(normalize=True))\n"
   ]
  },
  {
   "cell_type": "code",
   "execution_count": 82,
   "id": "ff9530d1-0c79-4f52-9277-4d97cce11356",
   "metadata": {},
   "outputs": [
    {
     "name": "stdout",
     "output_type": "stream",
     "text": [
      "Labels: ['negative', 'neutral', 'positive']\n"
     ]
    }
   ],
   "source": [
    "## 3.1 Label encoding\n",
    "from sklearn.preprocessing import LabelEncoder\n",
    "\n",
    "# Labels in Zahlen umwandeln\n",
    "label_encoder = LabelEncoder()\n",
    "train_df[\"label\"] = label_encoder.fit_transform(train_df[\"sentiment\"])\n",
    "val_df[\"label\"] = label_encoder.transform(val_df[\"sentiment\"])\n",
    "test_df[\"label\"] = label_encoder.transform(test_df[\"sentiment\"])\n",
    "\n",
    "# Klassenreihenfolge merken\n",
    "label_names = label_encoder.classes_.tolist()\n",
    "print(\"Labels:\", label_names)\n",
    "\n",
    "# Speichere Label-Klassen in Datei (für späteres Nachladen)\n",
    "with open(\"data/label_classes.txt\", \"w\", encoding=\"utf-8\") as f:\n",
    "    f.write(\"\\n\".join(label_names))\n"
   ]
  },
  {
   "cell_type": "code",
   "execution_count": 3,
   "id": "062965b3-e76a-443b-83aa-eb7f757acd22",
   "metadata": {},
   "outputs": [
    {
     "data": {
      "application/vnd.jupyter.widget-view+json": {
       "model_id": "67056c8cbff340ceb69685ecc4e041d2",
       "version_major": 2,
       "version_minor": 0
      },
      "text/plain": [
       "Map:   0%|          | 0/800 [00:00<?, ? examples/s]"
      ]
     },
     "metadata": {},
     "output_type": "display_data"
    },
    {
     "data": {
      "application/vnd.jupyter.widget-view+json": {
       "model_id": "d184c98c6b904e24b26c950b8e3d6bd4",
       "version_major": 2,
       "version_minor": 0
      },
      "text/plain": [
       "Map:   0%|          | 0/100 [00:00<?, ? examples/s]"
      ]
     },
     "metadata": {},
     "output_type": "display_data"
    },
    {
     "data": {
      "application/vnd.jupyter.widget-view+json": {
       "model_id": "96f856bacb27494c86beacd6d55fe7fd",
       "version_major": 2,
       "version_minor": 0
      },
      "text/plain": [
       "Map:   0%|          | 0/100 [00:00<?, ? examples/s]"
      ]
     },
     "metadata": {},
     "output_type": "display_data"
    }
   ],
   "source": [
    "# 4. Dataset vorbereiten und Tokenizen\n",
    "from datasets import Dataset\n",
    "from transformers import AutoTokenizer\n",
    "\n",
    "# Tokenizer laden\n",
    "tokenizer = AutoTokenizer.from_pretrained(\"deepset/gbert-base\")\n",
    "\n",
    "# Nur Titel & Label nehmen\n",
    "train_ds = Dataset.from_pandas(train_df[[\"title\", \"label\"]])\n",
    "val_ds = Dataset.from_pandas(val_df[[\"title\", \"label\"]])\n",
    "test_ds = Dataset.from_pandas(test_df[[\"title\", \"label\"]])\n",
    "\n",
    "# Tokenisierungsfunktion\n",
    "def tokenize(example):\n",
    "    return tokenizer(example[\"title\"], padding=\"max_length\", truncation=True, max_length=64)\n",
    "\n",
    "# Tokenisierung\n",
    "train_ds = train_ds.map(tokenize, batched=True)\n",
    "val_ds = val_ds.map(tokenize, batched=True)\n",
    "test_ds = test_ds.map(tokenize, batched=True)\n"
   ]
  },
  {
   "cell_type": "code",
   "execution_count": 4,
   "id": "37d64a00-e090-4dfd-b003-1b70459cc28d",
   "metadata": {},
   "outputs": [
    {
     "name": "stderr",
     "output_type": "stream",
     "text": [
      "Some weights of BertForSequenceClassification were not initialized from the model checkpoint at deepset/gbert-base and are newly initialized: ['classifier.bias', 'classifier.weight']\n",
      "You should probably TRAIN this model on a down-stream task to be able to use it for predictions and inference.\n"
     ]
    }
   ],
   "source": [
    "## 4.1 Modell definieren\n",
    "from transformers import AutoModelForSequenceClassification\n",
    "\n",
    "# Anzahl deiner Klassen\n",
    "num_labels = len(label_names)  # z. B. 3 (positive, neutral, negative)\n",
    "\n",
    "# Modell laden\n",
    "model = AutoModelForSequenceClassification.from_pretrained(\n",
    "    \"deepset/gbert-base\",\n",
    "    num_labels=num_labels\n",
    ")"
   ]
  },
  {
   "cell_type": "code",
   "execution_count": 8,
   "id": "42a0805c-c6d7-4701-991c-584c8972abe3",
   "metadata": {},
   "outputs": [
    {
     "name": "stderr",
     "output_type": "stream",
     "text": [
      "C:\\Users\\viet\\AppData\\Local\\Temp\\ipykernel_5924\\828392823.py:52: FutureWarning: `tokenizer` is deprecated and will be removed in version 5.0.0 for `Trainer.__init__`. Use `processing_class` instead.\n",
      "  trainer = Trainer(\n"
     ]
    }
   ],
   "source": [
    "# 5. Training vorbereiten\n",
    "from transformers import TrainingArguments, Trainer, EarlyStoppingCallback\n",
    "import evaluate\n",
    "import torch\n",
    "import random\n",
    "import numpy as np\n",
    "\n",
    "# Reproduzierbarkeit sicherstellen\n",
    "def set_seed(seed):\n",
    "    random.seed(seed)\n",
    "    np.random.seed(seed)\n",
    "    torch.manual_seed(seed)\n",
    "    torch.cuda.manual_seed_all(seed)\n",
    "\n",
    "set_seed(42)\n",
    "\n",
    "accuracy = evaluate.load(\"accuracy\")\n",
    "f1 = evaluate.load(\"f1\")\n",
    "\n",
    "# Metrik berechnen\n",
    "def compute_metrics(eval_pred):\n",
    "    predictions, labels = eval_pred\n",
    "    preds = predictions.argmax(axis=1)\n",
    "    return {\n",
    "        \"accuracy\": accuracy.compute(predictions=preds, references=labels)[\"accuracy\"],\n",
    "        \"f1\": f1.compute(predictions=preds, references=labels, average=\"macro\")[\"f1\"]\n",
    "    }\n",
    "\n",
    "# Trainingsparameter\n",
    "training_args = TrainingArguments(\n",
    "    output_dir=\"./results_v3_earlystop\",\n",
    "    eval_strategy=\"epoch\",\n",
    "    save_strategy=\"epoch\",\n",
    "    learning_rate=7e-6,\n",
    "    per_device_train_batch_size=16,\n",
    "    per_device_eval_batch_size=32,\n",
    "    num_train_epochs=10, \n",
    "    weight_decay=0.05,\n",
    "    lr_scheduler_type=\"cosine\",\n",
    "    warmup_ratio=0.1,\n",
    "    logging_dir=\"./logs_v3_earlystop\",\n",
    "    logging_steps=50,\n",
    "    load_best_model_at_end=True,\n",
    "    metric_for_best_model=\"f1\",\n",
    "    greater_is_better=True,\n",
    "    save_total_limit=2,\n",
    "    seed=42\n",
    ")\n",
    "callbacks = [EarlyStoppingCallback(early_stopping_patience=2)]\n",
    "\n",
    "# Huggingface Trainer\n",
    "trainer = Trainer(\n",
    "    model=model,\n",
    "    args=training_args,\n",
    "    train_dataset=train_ds,\n",
    "    eval_dataset=val_ds,\n",
    "    tokenizer=tokenizer,\n",
    "    compute_metrics=compute_metrics\n",
    ")\n"
   ]
  },
  {
   "cell_type": "code",
   "execution_count": 10,
   "id": "264a0bda-7d7f-4b5b-8b3a-78a75c19f47a",
   "metadata": {},
   "outputs": [
    {
     "name": "stderr",
     "output_type": "stream",
     "text": [
      "C:\\Users\\viet\\Desktop\\Projekt\\.venv\\Lib\\site-packages\\torch\\utils\\data\\dataloader.py:665: UserWarning: 'pin_memory' argument is set as true but no accelerator is found, then device pinned memory won't be used.\n",
      "  warnings.warn(warn_msg)\n"
     ]
    },
    {
     "data": {
      "text/html": [
       "\n",
       "    <div>\n",
       "      \n",
       "      <progress value='500' max='500' style='width:300px; height:20px; vertical-align: middle;'></progress>\n",
       "      [500/500 21:09, Epoch 10/10]\n",
       "    </div>\n",
       "    <table border=\"1\" class=\"dataframe\">\n",
       "  <thead>\n",
       " <tr style=\"text-align: left;\">\n",
       "      <th>Epoch</th>\n",
       "      <th>Training Loss</th>\n",
       "      <th>Validation Loss</th>\n",
       "      <th>Accuracy</th>\n",
       "      <th>F1</th>\n",
       "    </tr>\n",
       "  </thead>\n",
       "  <tbody>\n",
       "    <tr>\n",
       "      <td>1</td>\n",
       "      <td>0.321500</td>\n",
       "      <td>0.881545</td>\n",
       "      <td>0.650000</td>\n",
       "      <td>0.654659</td>\n",
       "    </tr>\n",
       "    <tr>\n",
       "      <td>2</td>\n",
       "      <td>0.279800</td>\n",
       "      <td>0.950294</td>\n",
       "      <td>0.650000</td>\n",
       "      <td>0.654762</td>\n",
       "    </tr>\n",
       "    <tr>\n",
       "      <td>3</td>\n",
       "      <td>0.227100</td>\n",
       "      <td>1.022181</td>\n",
       "      <td>0.670000</td>\n",
       "      <td>0.674903</td>\n",
       "    </tr>\n",
       "    <tr>\n",
       "      <td>4</td>\n",
       "      <td>0.158000</td>\n",
       "      <td>1.164481</td>\n",
       "      <td>0.620000</td>\n",
       "      <td>0.607567</td>\n",
       "    </tr>\n",
       "    <tr>\n",
       "      <td>5</td>\n",
       "      <td>0.124500</td>\n",
       "      <td>1.246113</td>\n",
       "      <td>0.610000</td>\n",
       "      <td>0.611512</td>\n",
       "    </tr>\n",
       "    <tr>\n",
       "      <td>6</td>\n",
       "      <td>0.096200</td>\n",
       "      <td>1.334940</td>\n",
       "      <td>0.610000</td>\n",
       "      <td>0.612698</td>\n",
       "    </tr>\n",
       "    <tr>\n",
       "      <td>7</td>\n",
       "      <td>0.064400</td>\n",
       "      <td>1.375325</td>\n",
       "      <td>0.610000</td>\n",
       "      <td>0.610022</td>\n",
       "    </tr>\n",
       "    <tr>\n",
       "      <td>8</td>\n",
       "      <td>0.049400</td>\n",
       "      <td>1.428655</td>\n",
       "      <td>0.620000</td>\n",
       "      <td>0.623306</td>\n",
       "    </tr>\n",
       "    <tr>\n",
       "      <td>9</td>\n",
       "      <td>0.046600</td>\n",
       "      <td>1.432307</td>\n",
       "      <td>0.620000</td>\n",
       "      <td>0.622587</td>\n",
       "    </tr>\n",
       "    <tr>\n",
       "      <td>10</td>\n",
       "      <td>0.053800</td>\n",
       "      <td>1.432907</td>\n",
       "      <td>0.620000</td>\n",
       "      <td>0.622587</td>\n",
       "    </tr>\n",
       "  </tbody>\n",
       "</table><p>"
      ],
      "text/plain": [
       "<IPython.core.display.HTML object>"
      ]
     },
     "metadata": {},
     "output_type": "display_data"
    },
    {
     "name": "stderr",
     "output_type": "stream",
     "text": [
      "C:\\Users\\viet\\Desktop\\Projekt\\.venv\\Lib\\site-packages\\torch\\utils\\data\\dataloader.py:665: UserWarning: 'pin_memory' argument is set as true but no accelerator is found, then device pinned memory won't be used.\n",
      "  warnings.warn(warn_msg)\n",
      "C:\\Users\\viet\\Desktop\\Projekt\\.venv\\Lib\\site-packages\\torch\\utils\\data\\dataloader.py:665: UserWarning: 'pin_memory' argument is set as true but no accelerator is found, then device pinned memory won't be used.\n",
      "  warnings.warn(warn_msg)\n",
      "C:\\Users\\viet\\Desktop\\Projekt\\.venv\\Lib\\site-packages\\torch\\utils\\data\\dataloader.py:665: UserWarning: 'pin_memory' argument is set as true but no accelerator is found, then device pinned memory won't be used.\n",
      "  warnings.warn(warn_msg)\n",
      "C:\\Users\\viet\\Desktop\\Projekt\\.venv\\Lib\\site-packages\\torch\\utils\\data\\dataloader.py:665: UserWarning: 'pin_memory' argument is set as true but no accelerator is found, then device pinned memory won't be used.\n",
      "  warnings.warn(warn_msg)\n",
      "C:\\Users\\viet\\Desktop\\Projekt\\.venv\\Lib\\site-packages\\torch\\utils\\data\\dataloader.py:665: UserWarning: 'pin_memory' argument is set as true but no accelerator is found, then device pinned memory won't be used.\n",
      "  warnings.warn(warn_msg)\n",
      "C:\\Users\\viet\\Desktop\\Projekt\\.venv\\Lib\\site-packages\\torch\\utils\\data\\dataloader.py:665: UserWarning: 'pin_memory' argument is set as true but no accelerator is found, then device pinned memory won't be used.\n",
      "  warnings.warn(warn_msg)\n",
      "C:\\Users\\viet\\Desktop\\Projekt\\.venv\\Lib\\site-packages\\torch\\utils\\data\\dataloader.py:665: UserWarning: 'pin_memory' argument is set as true but no accelerator is found, then device pinned memory won't be used.\n",
      "  warnings.warn(warn_msg)\n",
      "C:\\Users\\viet\\Desktop\\Projekt\\.venv\\Lib\\site-packages\\torch\\utils\\data\\dataloader.py:665: UserWarning: 'pin_memory' argument is set as true but no accelerator is found, then device pinned memory won't be used.\n",
      "  warnings.warn(warn_msg)\n",
      "C:\\Users\\viet\\Desktop\\Projekt\\.venv\\Lib\\site-packages\\torch\\utils\\data\\dataloader.py:665: UserWarning: 'pin_memory' argument is set as true but no accelerator is found, then device pinned memory won't be used.\n",
      "  warnings.warn(warn_msg)\n"
     ]
    },
    {
     "data": {
      "text/plain": [
       "TrainOutput(global_step=500, training_loss=0.14212095260620117, metrics={'train_runtime': 1272.1194, 'train_samples_per_second': 6.289, 'train_steps_per_second': 0.393, 'total_flos': 263113417728000.0, 'train_loss': 0.14212095260620117, 'epoch': 10.0})"
      ]
     },
     "execution_count": 10,
     "metadata": {},
     "output_type": "execute_result"
    }
   ],
   "source": [
    "## 5.1 Training\n",
    "trainer.train()\n"
   ]
  },
  {
   "cell_type": "code",
   "execution_count": 116,
   "id": "09556376-41a6-42da-9bfe-58b273f294fc",
   "metadata": {},
   "outputs": [
    {
     "data": {
      "text/plain": [
       "'neutral'"
      ]
     },
     "execution_count": 116,
     "metadata": {},
     "output_type": "execute_result"
    }
   ],
   "source": [
    "# Training test\n",
    "text = \"Mann tötet 200 Menschen\"\n",
    "\n",
    "inputs = tokenizer(text, return_tensors=\"pt\", truncation=True, padding=True)\n",
    "outputs = model(**inputs)\n",
    "predicted_class_id = outputs.logits.argmax(dim=-1).item()\n",
    "\n",
    "# Ursprüngliches Label zurückübersetzen:\n",
    "label_encoder.inverse_transform([predicted_class_id])[0]\n"
   ]
  },
  {
   "cell_type": "code",
   "execution_count": 11,
   "id": "4c2945e5-a22e-4fe4-acde-3d1ea02654d7",
   "metadata": {},
   "outputs": [],
   "source": [
    "## 5.2 Trainiertes Modell speichern\n",
    "trainer.save_model(\"./saved_best_model\")\n",
    "tokenizer.save_pretrained(\"./saved_best_model\")"
   ]
  },
  {
   "cell_type": "code",
   "execution_count": 15,
   "id": "74397c4d-0a20-4c3c-8a8e-b529e07a8e05",
   "metadata": {},
   "outputs": [
    {
     "name": "stderr",
     "output_type": "stream",
     "text": [
      "C:\\Users\\viet\\Desktop\\Projekt\\.venv\\Lib\\site-packages\\torch\\utils\\data\\dataloader.py:665: UserWarning: 'pin_memory' argument is set as true but no accelerator is found, then device pinned memory won't be used.\n",
      "  warnings.warn(warn_msg)\n"
     ]
    },
    {
     "data": {
      "text/html": [],
      "text/plain": [
       "<IPython.core.display.HTML object>"
      ]
     },
     "metadata": {},
     "output_type": "display_data"
    },
    {
     "name": "stdout",
     "output_type": "stream",
     "text": [
      "{'eval_loss': 0.9708534479141235, 'eval_accuracy': 0.7, 'eval_f1': 0.7023474564087818, 'eval_runtime': 4.0967, 'eval_samples_per_second': 24.41, 'eval_steps_per_second': 0.976, 'epoch': 10.0}\n"
     ]
    }
   ],
   "source": [
    "# 6. Evaluation\n",
    "test_results = trainer.evaluate(eval_dataset=test_ds)\n",
    "print(test_results)\n"
   ]
  },
  {
   "cell_type": "code",
   "execution_count": 70,
   "id": "ee4b0494-cfa4-46c0-bd13-7616af01f3c0",
   "metadata": {},
   "outputs": [
    {
     "name": "stderr",
     "output_type": "stream",
     "text": [
      "C:\\Users\\viet\\Desktop\\Projekt\\.venv\\Lib\\site-packages\\torch\\utils\\data\\dataloader.py:665: UserWarning: 'pin_memory' argument is set as true but no accelerator is found, then device pinned memory won't be used.\n",
      "  warnings.warn(warn_msg)\n"
     ]
    },
    {
     "data": {
      "text/html": [],
      "text/plain": [
       "<IPython.core.display.HTML object>"
      ]
     },
     "metadata": {},
     "output_type": "display_data"
    }
   ],
   "source": [
    "# Vorhersage auf Testset\n",
    "predictions = trainer.predict(test_ds)\n",
    "pred_labels = predictions.predictions.argmax(axis=1)\n",
    "true_labels = predictions.label_ids\n"
   ]
  },
  {
   "cell_type": "code",
   "execution_count": 121,
   "id": "70d1234f-8fff-4660-bc21-8e9c8d739640",
   "metadata": {},
   "outputs": [
    {
     "name": "stdout",
     "output_type": "stream",
     "text": [
      "Klassifikationsbericht:\n",
      "              precision    recall  f1-score   support\n",
      "\n",
      "    negative       0.73      0.75      0.74        36\n",
      "     neutral       0.66      0.57      0.61        37\n",
      "    positive       0.71      0.81      0.76        27\n",
      "\n",
      "    accuracy                           0.70       100\n",
      "   macro avg       0.70      0.71      0.70       100\n",
      "weighted avg       0.70      0.70      0.70       100\n",
      "\n",
      "Balanced Accuracy: 0.711\n"
     ]
    },
    {
     "data": {
      "image/png": "[encoded data removed]",
      "text/plain": [
       "<Figure size 800x600 with 2 Axes>"
      ]
     },
     "metadata": {},
     "output_type": "display_data"
    }
   ],
   "source": [
    "## 6.1 Visualisierung der Testset\n",
    "\n",
    "from sklearn.metrics import classification_report, confusion_matrix,balanced_accuracy_score\n",
    "import seaborn as sns\n",
    "import matplotlib.pyplot as plt\n",
    "import pandas as pd\n",
    "\n",
    "# Bericht\n",
    "print(\"Klassifikationsbericht:\")\n",
    "print(classification_report(true_labels, pred_labels, target_names=label_names))\n",
    "\n",
    "balanced_acc = balanced_accuracy_score(true_labels, pred_labels)\n",
    "print(f\"Balanced Accuracy: {balanced_acc:.3f}\")\n",
    "\n",
    "# Confusion Matrix\n",
    "cm = confusion_matrix(true_labels, pred_labels, normalize='true')\n",
    "\n",
    "# Visualisierung\n",
    "plt.figure(figsize=(8, 6))\n",
    "sns.heatmap(pd.DataFrame(cm, index=label_names, columns=label_names), annot=True, cmap=\"Blues\", fmt=\".2f\")\n",
    "plt.title(\"Confusion Matrix\")\n",
    "plt.ylabel(\"True\")\n",
    "plt.xlabel(\"Predicted\")\n",
    "plt.tight_layout()\n",
    "plt.savefig(\"confusion_matrix.png\", dpi=300)\n",
    "plt.show()\n"
   ]
  },
  {
   "cell_type": "code",
   "execution_count": 21,
   "id": "0e526263-4c2f-4a70-9b24-549c58d8c0e0",
   "metadata": {},
   "outputs": [
    {
     "data": {
      "text/plain": [
       "('final_model\\\\tokenizer_config.json',\n",
       " 'final_model\\\\special_tokens_map.json',\n",
       " 'final_model\\\\vocab.txt',\n",
       " 'final_model\\\\added_tokens.json',\n",
       " 'final_model\\\\tokenizer.json')"
      ]
     },
     "execution_count": 21,
     "metadata": {},
     "output_type": "execute_result"
    }
   ],
   "source": [
    "## 6.2 Finales Modell speichern\n",
    "model.save_pretrained(\"final_model\")\n",
    "tokenizer.save_pretrained(\"final_model\")"
   ]
  },
  {
   "cell_type": "code",
   "execution_count": 112,
   "id": "3843fe8e-fbee-4011-a13b-dfb094a0e5ab",
   "metadata": {},
   "outputs": [
    {
     "data": {
      "image/png": "[encoded data removed]",
      "text/plain": [
       "<Figure size 1000x1000 with 2 Axes>"
      ]
     },
     "metadata": {},
     "output_type": "display_data"
    }
   ],
   "source": [
    "## 6.3 Vergleich mit anderen Modellen\n",
    "import pandas as pd\n",
    "import matplotlib.pyplot as plt\n",
    "\n",
    "# Daten laden und vereinheitlichen\n",
    "df_exp = pd.read_csv(\"experiments/model_results.csv\")\n",
    "df_final = pd.read_csv(\"final_model/final_model_result.csv\")\n",
    "\n",
    "df = pd.concat([df_exp, df_final], ignore_index=True)\n",
    "df.columns = ['model_name', 'train_loss', 'eval_loss', 'accuracy', 'f1_score']\n",
    "df = df.sort_values(by=\"f1_score\", ascending=False)\n",
    "\n",
    "# Plot erstellen\n",
    "fig, axes = plt.subplots(nrows=2, ncols=1, figsize=(10, 10), sharex=True)\n",
    "\n",
    "# Farben\n",
    "f1_color = \"royalblue\"\n",
    "acc_color = \"darkorange\"\n",
    "train_color = \"steelblue\"\n",
    "eval_color = \"orangered\"\n",
    "\n",
    "# Plot: F1 und Accuracy\n",
    "bar_width = 0.4\n",
    "x = range(len(df))\n",
    "\n",
    "axes[0].bar(x, df[\"f1_score\"], width=bar_width, label=\"F1-Score\", color=f1_color)\n",
    "axes[0].bar([i + bar_width for i in x], df[\"accuracy\"], width=bar_width, label=\"Accuracy\", color=acc_color)\n",
    "\n",
    "axes[0].set_ylabel(\"Score\")\n",
    "axes[0].set_title(\"F1-Score und Accuracy pro Modell\")\n",
    "axes[0].set_xticks([i + bar_width / 2 for i in x])\n",
    "axes[0].set_xticklabels(df[\"model_name\"], rotation=45)\n",
    "axes[0].legend()\n",
    "axes[0].grid(axis=\"y\", linestyle=\"--\", alpha=0.6)\n",
    "# Werte oberhalb der F1-Balken einzeichnen (senkrecht)\n",
    "for i, v in enumerate(df[\"f1_score\"]):\n",
    "    axes[0].text(i, v + 0.005, f\"{v:.3f}\", ha='center', va='bottom', fontsize=9, color=\"black\")\n",
    "for i, v in enumerate(df[\"accuracy\"]):\n",
    "    axes[0].text(i + bar_width, v + 0.005, f\"{v:.3f}\", ha='center', va='bottom', fontsize=9, color=\"black\")\n",
    "\n",
    "# Plot: Train vs Eval Loss\n",
    "axes[1].bar(x, df[\"train_loss\"], width=bar_width, label=\"Train Loss\", color=train_color)\n",
    "axes[1].bar([i + bar_width for i in x], df[\"eval_loss\"], width=bar_width, label=\"Eval Loss\", color=eval_color)\n",
    "\n",
    "axes[1].set_ylabel(\"Loss\")\n",
    "axes[1].set_title(\"Trainings- und Validierungs-Loss pro Modell\")\n",
    "axes[1].set_xticks([i + bar_width / 2 for i in x])\n",
    "axes[1].set_xticklabels(df[\"model_name\"], rotation=45)\n",
    "axes[1].legend()\n",
    "axes[1].grid(axis=\"y\", linestyle=\"--\", alpha=0.6)\n",
    "for i, v in enumerate(df[\"train_loss\"]):\n",
    "    axes[1].text(i, v + 0.005, f\"{v:.3f}\", ha='center', va='bottom', fontsize=9, color=\"black\")\n",
    "for i, v in enumerate(df[\"eval_loss\"]):\n",
    "    axes[1].text(i + bar_width, v + 0.005, f\"{v:.3f}\", ha='center', va='bottom', fontsize=9, color=\"black\")\n",
    "\n",
    "plt.tight_layout()\n",
    "plt.show()\n"
   ]
  },
  {
   "cell_type": "code",
   "execution_count": 84,
   "id": "506ba5e3-eba4-41cb-b6dd-f554d14d143b",
   "metadata": {},
   "outputs": [],
   "source": [
    "# 7. Post-Processing: Nachgestellte Reglen\n",
    "import pandas as pd\n",
    "import json\n",
    "from tqdm import tqdm\n",
    "import spacy\n",
    "from transformers import AutoModelForSequenceClassification, AutoTokenizer\n",
    "import torch\n",
    "\n",
    "\n",
    "model = AutoModelForSequenceClassification.from_pretrained(\"final_model\")\n",
    "model.eval()\n",
    "tokenizer = AutoTokenizer.from_pretrained(\"final_model\")\n",
    "with open(\"data/label_classes.txt\", \"r\", encoding=\"utf-8\") as f:\n",
    "    label_names = [line.strip() for line in f]\n",
    "\n",
    "# Sicherstellen, dass spaCy geladen ist\n",
    "nlp = spacy.load(\"de_core_news_sm\")\n",
    "\n",
    "# Inhaltsebene berechnen\n",
    "def predict_sentiment(text):\n",
    "    inputs = tokenizer(text, return_tensors=\"pt\", truncation=True, padding=True, max_length=64)\n",
    "    outputs = model(**inputs)\n",
    "    pred = outputs.logits.argmax(dim=1).item()\n",
    "    return label_names[pred]\n",
    "\n",
    "# Wahrscheinlichkeit berechnen\n",
    "def predict_sentiment_probs(text):\n",
    "    inputs = tokenizer(text, return_tensors=\"pt\", truncation=True, padding=True, max_length=64)\n",
    "    outputs = model(**inputs)\n",
    "    probs = torch.nn.functional.softmax(outputs.logits, dim=1).detach().numpy()[0]\n",
    "    return {label: round(float(p), 3) for label, p in zip(label_names, probs)}\n",
    "\n",
    "# Negative Schlüsselwörter laden\n",
    "with open(\"data/negative_keywords_news.json\", \"r\", encoding=\"utf-8\") as f:\n",
    "        negative_keywords = set(json.load(f))\n",
    "    \n",
    "# Regel-Funktion mit spaCy\n",
    "def predict_with_rules(text):\n",
    "    model_prediction = predict_sentiment(text)\n",
    "    doc = nlp(text.lower())\n",
    "    \n",
    "    found_negatives = [token.text for token in doc if token.lemma_ in negative_keywords]\n",
    "\n",
    "    if model_prediction == \"neutral\" and found_negatives:\n",
    "        return {\n",
    "            \"final_label\": \"negative\",\n",
    "            \"modell_label\": model_prediction,\n",
    "            \"regel_override\": True,\n",
    "            \"wahrscheinlichkeiten\": predict_sentiment_probs(text),\n",
    "            \"begruendung\": f\"Folgende Wörter deuten auf Negativstimmung: {', '.join(found_negatives)}\",\n",
    "            \"text\": text\n",
    "        }\n",
    "\n",
    "    return {\n",
    "        \"final_label\": model_prediction,\n",
    "        \"modell_label\": model_prediction,\n",
    "        \"regel_override\": False,\n",
    "        \"wahrscheinlichkeiten\": predict_sentiment_probs(text),\n",
    "        \"begruendung\": \"Keine kritischen Schlüsselwörter erkannt.\",\n",
    "        \"text\": text\n",
    "    }"
   ]
  },
  {
   "cell_type": "code",
   "execution_count": 119,
   "id": "9adc452e-7446-438e-9f5b-c7d572414f67",
   "metadata": {},
   "outputs": [
    {
     "name": "stdout",
     "output_type": "stream",
     "text": [
      "Titel: Mann verliert sein Bein\n",
      "Sprachebene: neutral\n",
      "Inhaltsebene: neutral\n",
      "Modell-Wahrscheinlichkeiten: {'negative': 0.241, 'neutral': 0.749, 'positive': 0.01}\n",
      "Regel angewendet: False\n",
      "Begründung: Keine kritischen Schlüsselwörter erkannt.\n"
     ]
    }
   ],
   "source": [
    "# Beispielausgabe\n",
    "example = \"Mann verliert sein Bein\"\n",
    "result = predict_with_rules(example)\n",
    "\n",
    "print(\"Titel:\", result[\"text\"])\n",
    "print(\"Sprachebene:\", result[\"modell_label\"])\n",
    "print(\"Inhaltsebene:\", result[\"final_label\"])\n",
    "print(\"Modell-Wahrscheinlichkeiten:\", result[\"wahrscheinlichkeiten\"])\n",
    "print(\"Regel angewendet:\", result[\"regel_override\"])\n",
    "print(\"Begründung:\", result[\"begruendung\"])"
   ]
  },
  {
   "cell_type": "code",
   "execution_count": 81,
   "id": "5b205a3f-d951-43ed-83a5-503ac5d2f30a",
   "metadata": {},
   "outputs": [
    {
     "name": "stdout",
     "output_type": "stream",
     "text": [
      "* Running on local URL:  http://127.0.0.1:7869\n",
      "* To create a public link, set `share=True` in `launch()`.\n"
     ]
    },
    {
     "data": {
      "text/html": [
       "<div><iframe src=\"http://127.0.0.1:7869/\" width=\"100%\" height=\"500\" allow=\"autoplay; camera; microphone; clipboard-read; clipboard-write;\" frameborder=\"0\" allowfullscreen></iframe></div>"
      ],
      "text/plain": [
       "<IPython.core.display.HTML object>"
      ]
     },
     "metadata": {},
     "output_type": "display_data"
    }
   ],
   "source": [
    "# 8. Mini-WebApp mit Gradio\n",
    "import gradio as gr\n",
    "\n",
    "def hybrid_sentiment(text):\n",
    "    if not text.strip():\n",
    "        return (\n",
    "            \"Kein Text eingegeben.\",\n",
    "            \"-\", \"-\", \"-\", \"-\"\n",
    "        )\n",
    "    result = predict_with_rules(text)\n",
    "    return (\n",
    "        result[\"final_label\"],\n",
    "        result[\"modell_label\"],\n",
    "        str(result[\"regel_override\"]),\n",
    "        result[\"begruendung\"],\n",
    "        str(result[\"wahrscheinlichkeiten\"])\n",
    "    )\n",
    "\n",
    "demo = gr.Interface(\n",
    "    fn=hybrid_sentiment,\n",
    "    inputs=gr.Textbox(label=\"Nachrichtentitel\", placeholder=\"z. B. 'Mann tötet Frau in Berlin'\"),\n",
    "    outputs=[\n",
    "        gr.Textbox(label=\"Sprachebene (Modell-Vorhersage)\"),\n",
    "        gr.Textbox(label=\"Inhaltsebene (Regelbasiert)\"),\n",
    "        gr.Textbox(label=\"Regel angewendet\"),\n",
    "        gr.Textbox(label=\"Begründung\"),\n",
    "        gr.Textbox(label=\"Modell-Wahrscheinlichkeiten\")\n",
    "    ],\n",
    "    title=\"Stimmungsanalyse deutscher Nachrichtentitel\",\n",
    "    description=\"Dieses Tool kombiniert ein maschinell gelerntes Modell mit regelbasierten Filtern zur Analyse der Stimmung in Nachrichtentiteln.\"\n",
    ").launch()"
   ]
  },
  {
   "cell_type": "code",
   "execution_count": null,
   "id": "af871ef3-5a64-4e47-91f4-bc97e0e383a0",
   "metadata": {},
   "outputs": [],
   "source": []
  }
 ],
 "metadata": {
  "kernelspec": {
   "display_name": "Python 3 (ipykernel)",
   "language": "python",
   "name": "python3"
  },
  "language_info": {
   "codemirror_mode": {
    "name": "ipython",
    "version": 3
   },
   "file_extension": ".py",
   "mimetype": "text/x-python",
   "name": "python",
   "nbconvert_exporter": "python",
   "pygments_lexer": "ipython3",
   "version": "3.11.9"
  }
 },
 "nbformat": 4,
 "nbformat_minor": 5
}
